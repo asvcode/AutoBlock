{
 "cells": [
  {
   "cell_type": "code",
   "execution_count": 1,
   "metadata": {},
   "outputs": [],
   "source": [
    "# default_exp core"
   ]
  },
  {
   "cell_type": "markdown",
   "metadata": {},
   "source": [
    "# module name here\n",
    "\n",
    "> API details."
   ]
  },
  {
   "cell_type": "code",
   "execution_count": 2,
   "metadata": {},
   "outputs": [],
   "source": [
    "#hide\n",
    "from nbdev.showdoc import *"
   ]
  },
  {
   "cell_type": "code",
   "execution_count": 3,
   "metadata": {},
   "outputs": [],
   "source": [
    "#export\n",
    "import os\n",
    "\n",
    "from fastai2.basics import *\n",
    "#from fastai.callback.all import *\n",
    "from fastai2.vision.all import *"
   ]
  },
  {
   "cell_type": "code",
   "execution_count": 1,
   "metadata": {},
   "outputs": [],
   "source": [
    "def auto_block(dir, y_col=None, train_folder='train', csv='train', seg=False, seg_fold='masks'):\n",
    "    files = os.listdir(dir)\n",
    "    print(f'>> Files & Folders: {files}\\n')\n",
    "    if seg == False:\n",
    "        print('>> Non segmentation')\n",
    "        try:\n",
    "            for f in files:\n",
    "                if f.endswith('.csv'):\n",
    "                    #print('>> csv file(s) found')\n",
    "                    auto_block.read_csv = pd.read_csv(f'{dir}/{csv}.csv') \n",
    "                    print(auto_block.read_csv.head(1))\n",
    "                    for fil in os.listdir(f'{dir}/{train_folder}'):\n",
    "                        if fil.endswith('.jpg'):\n",
    "                            auto_block.get_x = lambda x:f'{dir}/{train_folder}/{x[0]}.jpg'\n",
    "                            auto_block.block_cls = PILImage\n",
    "                            break\n",
    "                        elif fil.endswith('dcm'):\n",
    "                            auto_block.get_x = lambda x:f'{dir}{train_folder}/{x[0]}.dcm'\n",
    "                            auto_block.block_cls = PILDicom\n",
    "                            break\n",
    "                        else:\n",
    "                            print('unable to process')\n",
    "                            break\n",
    "\n",
    "                    bl = DataBlock(blocks=(ImageBlock(cls=auto_block.block_cls), CategoryBlock),\n",
    "                            get_x = auto_block.get_x,\n",
    "                            get_y = Pipeline(ColReader(y_col)),\n",
    "                            item_tfms=Resize(224),\n",
    "                            batch_tfms=[Normalize.from_stats(*imagenet_stats)]\n",
    "                            )\n",
    "                    dls = bl.dataloaders(auto_block.read_csv, bs=16)\n",
    "                    print('>> working....')\n",
    "                    dls.show_batch()\n",
    "                    break\n",
    "            \n",
    "                else:\n",
    "                    print('>> No csv file detected')\n",
    "                    fil = get_files(f'{dir}/{train_folder}', recurse=True)\n",
    "                    fileone = fil[0]\n",
    "                    print(fileone)\n",
    "                    filename, file_extension = os.path.splitext(fileone)\n",
    "                    if file_extension == '.JPEG': \n",
    "                        auto_block.cls_select=PILImage\n",
    "                        auto_block.get_items = get_image_files\n",
    "                    elif file_extension == '.png': \n",
    "                        auto_block.cls_select=PILImage\n",
    "                        auto_block.get_items = get_image_files\n",
    "                    elif file_extension == '.jpg': \n",
    "                        auto_block.cls_select=PILImage\n",
    "                        auto_block.get_items = get_image_files\n",
    "                    elif file_extension == '.dcm': \n",
    "                        auto_block.cls_select=PILDicom\n",
    "                        auto_block.get_items = get_dicom_files\n",
    "                    else:\n",
    "                        print('format not found')\n",
    "                    bl = DataBlock(blocks=(ImageBlock(cls=auto_block.cls_select), CategoryBlock),\n",
    "                            get_items = auto_block.get_items,\n",
    "                            get_y = parent_label,\n",
    "                            item_tfms=Resize(224),\n",
    "                            batch_tfms=[Normalize.from_stats(*imagenet_stats)]\n",
    "                                )\n",
    "                    dls = bl.dataloaders(f'{dir}', bs=16)\n",
    "                    print('>> working....')\n",
    "                    dls.show_batch() \n",
    "                    break\n",
    "        except FileNotFoundError:\n",
    "            print('>> specify correct csv file from those listed')\n",
    "        except AttributeError:\n",
    "            print(\">> specify correct 'column' from csv tags in y_col field\")\n",
    "        except IndexError:\n",
    "            print(\">> Check 'train' folder\")\n",
    "        except TypeError:\n",
    "            print('Please check source - NoneType returned')\n",
    "            \n",
    "    if seg == True:\n",
    "        print('>> Segmentation')\n",
    "        get_msk = lambda o: f'{dir}/{seg_folder}/{o.stem}{o.suffix}'\n",
    "        try:\n",
    "            fil = get_files(f'{dir}/{train_folder}', recurse=True)\n",
    "            fileone = fil[0]\n",
    "            print(fileone)\n",
    "            filename, file_extension = os.path.splitext(fileone)\n",
    "            if file_extension == '.JPEG': \n",
    "                cls_select=PILImage\n",
    "            elif file_extension == '.png': \n",
    "                cls_select=PILImage\n",
    "            elif file_extension == '.jpg': \n",
    "                cls_select=PILImage\n",
    "            elif file_extension == '.PNG':\n",
    "                cls_select=PILImage\n",
    "            elif file_extension == '.dcm': \n",
    "                cls_select=PILDicom\n",
    "            else:\n",
    "                print('format not found')\n",
    "            bl = DataBlock(blocks=(ImageBlock(cls=PILImage), MaskBlock),\n",
    "                        get_items = get_image_files,\n",
    "                        get_y = get_msk,\n",
    "                        item_tfms=Resize(224),\n",
    "                        batch_tfms=[Normalize.from_stats(*imagenet_stats)]\n",
    "                            )\n",
    "            dls = bl.dataloaders(f'{dir}{train_folder}', bs=16)\n",
    "            print('>> working....')\n",
    "            dls.show_batch() \n",
    "        except FileNotFoundError:\n",
    "            print('csv file not found')\n",
    "        except AttributeError:\n",
    "            print('column not found')\n",
    "        except IndexError:\n",
    "            print(\">> Check 'train' folder\")\n",
    "        except TypeError:\n",
    "            print('auto_block needs to have source and y_col(even if there is no csv file)')"
   ]
  },
  {
   "cell_type": "code",
   "execution_count": 1,
   "metadata": {},
   "outputs": [
    {
     "name": "stdout",
     "output_type": "stream",
     "text": [
      "Converted 00_core.ipynb.\n",
      "Converted 01_auto.ipynb.\n",
      "Converted index.ipynb.\n"
     ]
    }
   ],
   "source": [
    "from nbdev.export import notebook2script\n",
    "notebook2script()"
   ]
  },
  {
   "cell_type": "code",
   "execution_count": null,
   "metadata": {},
   "outputs": [],
   "source": []
  }
 ],
 "metadata": {
  "kernelspec": {
   "display_name": "Python 3",
   "language": "python",
   "name": "python3"
  },
  "language_info": {
   "codemirror_mode": {
    "name": "ipython",
    "version": 3
   },
   "file_extension": ".py",
   "mimetype": "text/x-python",
   "name": "python",
   "nbconvert_exporter": "python",
   "pygments_lexer": "ipython3",
   "version": "3.7.6"
  }
 },
 "nbformat": 4,
 "nbformat_minor": 2
}
